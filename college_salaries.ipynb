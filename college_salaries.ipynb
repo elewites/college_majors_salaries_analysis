{
 "nbformat": 4,
 "nbformat_minor": 0,
 "metadata": {
  "colab": {
   "provenance": [],
   "authorship_tag": "ABX9TyPrAm2UuYe9U217f2BraubT"
  },
  "kernelspec": {
   "name": "python3",
   "display_name": "Python 3"
  },
  "language_info": {
   "name": "python"
  }
 },
 "cells": [
  {
   "cell_type": "code",
   "execution_count": 1,
   "metadata": {
    "id": "Y_y-OqlfJ1dh",
    "executionInfo": {
     "status": "ok",
     "timestamp": 1668926702921,
     "user_tz": 480,
     "elapsed": 232,
     "user": {
      "displayName": "Eros Rodriguez",
      "userId": "14071478129069134206"
     }
    },
    "pycharm": {
     "name": "#%%\n"
    }
   },
   "outputs": [],
   "source": [
    "# import pandas library, rename it pd\n",
    "# will use pandas library to analyze data on salaries by college majors\n",
    "import pandas as pd"
   ]
  },
  {
   "cell_type": "code",
   "source": [
    "# mount google drive to notebook if using google collab\n",
    "# from google.colab import drive\n",
    "# drive.mount('/content/gdrive')\n"
   ],
   "metadata": {
    "id": "gwO2gvwTHHr0",
    "executionInfo": {
     "status": "ok",
     "timestamp": 1668926704337,
     "user_tz": 480,
     "elapsed": 1182,
     "user": {
      "displayName": "Eros Rodriguez",
      "userId": "14071478129069134206"
     }
    },
    "outputId": "819e3de8-c8f0-4068-bd84-d5f479336123",
    "colab": {
     "base_uri": "https://localhost:8080/"
    },
    "pycharm": {
     "name": "#%%\n"
    }
   },
   "execution_count": 2,
   "outputs": []
  },
  {
   "cell_type": "code",
   "source": [
    "# use pandas to import csv file and create dataframe\n",
    "df = pd.read_csv(\"salaries_by_college_major.csv\")"
   ],
   "metadata": {
    "id": "GNfn3i3QKjij",
    "executionInfo": {
     "status": "ok",
     "timestamp": 1668926704337,
     "user_tz": 480,
     "elapsed": 28,
     "user": {
      "displayName": "Eros Rodriguez",
      "userId": "14071478129069134206"
     }
    },
    "pycharm": {
     "name": "#%%\n"
    }
   },
   "execution_count": 3,
   "outputs": []
  },
  {
   "cell_type": "markdown",
   "source": [
    "**Analyzing datasets:**\n",
    "\n",
    "1. How many rows does our dataframe have? \n",
    "\n",
    "2. How many columns does it have?\n",
    "\n",
    "3. What are the labels for the columns? Do the columns have names?\n",
    "\n",
    "4. Are there any missing values in our dataframe? Does our dataframe contain any bad data?"
   ],
   "metadata": {
    "id": "FfwGc9jFK_Q3",
    "pycharm": {
     "name": "#%% md\n"
    }
   }
  },
  {
   "cell_type": "code",
   "source": [
    "# use head method to inspect what the data looks like\n",
    "df.head(5)"
   ],
   "metadata": {
    "id": "OtMb4nxGKrRm",
    "colab": {
     "base_uri": "https://localhost:8080/",
     "height": 250
    },
    "executionInfo": {
     "status": "ok",
     "timestamp": 1668926704338,
     "user_tz": 480,
     "elapsed": 28,
     "user": {
      "displayName": "Eros Rodriguez",
      "userId": "14071478129069134206"
     }
    },
    "outputId": "d7154c68-8cc6-4ff0-ec17-6573afcaa9be",
    "pycharm": {
     "name": "#%%\n"
    }
   },
   "execution_count": 4,
   "outputs": [
    {
     "data": {
      "text/plain": "     Undergraduate Major  Starting Median Salary  Mid-Career Median Salary  \\\n0             Accounting                 46000.0                   77100.0   \n1  Aerospace Engineering                 57700.0                  101000.0   \n2            Agriculture                 42600.0                   71900.0   \n3           Anthropology                 36800.0                   61500.0   \n4           Architecture                 41600.0                   76800.0   \n\n   Mid-Career 10th Percentile Salary  Mid-Career 90th Percentile Salary  \\\n0                            42200.0                           152000.0   \n1                            64300.0                           161000.0   \n2                            36300.0                           150000.0   \n3                            33800.0                           138000.0   \n4                            50600.0                           136000.0   \n\n      Group  \n0  Business  \n1      STEM  \n2  Business  \n3      HASS  \n4  Business  ",
      "text/html": "<div>\n<style scoped>\n    .dataframe tbody tr th:only-of-type {\n        vertical-align: middle;\n    }\n\n    .dataframe tbody tr th {\n        vertical-align: top;\n    }\n\n    .dataframe thead th {\n        text-align: right;\n    }\n</style>\n<table border=\"1\" class=\"dataframe\">\n  <thead>\n    <tr style=\"text-align: right;\">\n      <th></th>\n      <th>Undergraduate Major</th>\n      <th>Starting Median Salary</th>\n      <th>Mid-Career Median Salary</th>\n      <th>Mid-Career 10th Percentile Salary</th>\n      <th>Mid-Career 90th Percentile Salary</th>\n      <th>Group</th>\n    </tr>\n  </thead>\n  <tbody>\n    <tr>\n      <th>0</th>\n      <td>Accounting</td>\n      <td>46000.0</td>\n      <td>77100.0</td>\n      <td>42200.0</td>\n      <td>152000.0</td>\n      <td>Business</td>\n    </tr>\n    <tr>\n      <th>1</th>\n      <td>Aerospace Engineering</td>\n      <td>57700.0</td>\n      <td>101000.0</td>\n      <td>64300.0</td>\n      <td>161000.0</td>\n      <td>STEM</td>\n    </tr>\n    <tr>\n      <th>2</th>\n      <td>Agriculture</td>\n      <td>42600.0</td>\n      <td>71900.0</td>\n      <td>36300.0</td>\n      <td>150000.0</td>\n      <td>Business</td>\n    </tr>\n    <tr>\n      <th>3</th>\n      <td>Anthropology</td>\n      <td>36800.0</td>\n      <td>61500.0</td>\n      <td>33800.0</td>\n      <td>138000.0</td>\n      <td>HASS</td>\n    </tr>\n    <tr>\n      <th>4</th>\n      <td>Architecture</td>\n      <td>41600.0</td>\n      <td>76800.0</td>\n      <td>50600.0</td>\n      <td>136000.0</td>\n      <td>Business</td>\n    </tr>\n  </tbody>\n</table>\n</div>"
     },
     "execution_count": 4,
     "metadata": {},
     "output_type": "execute_result"
    }
   ]
  },
  {
   "cell_type": "markdown",
   "source": [
    "**Useful measurements to be familiar with**\n",
    "\n",
    "What is percentile? \n",
    "* percentile is the value at a particular rank\n",
    "e.g. if you score  score on a test is on the 95th percentile, a common interpretation is that only 5% of the scores were higher than yours.\n",
    "\n",
    "Mean or media? \n",
    "* median is better measuremnt of central tendency is data is skewed\n",
    "* mean is affected by outliers\n",
    "\n"
   ],
   "metadata": {
    "id": "YEDo8Lq4MIXG",
    "pycharm": {
     "name": "#%% md\n"
    }
   }
  },
  {
   "cell_type": "code",
   "source": [
    "# use shape method to count number of rows & columns\n",
    "df.shape"
   ],
   "metadata": {
    "id": "mH-BYbiULrrh",
    "colab": {
     "base_uri": "https://localhost:8080/"
    },
    "executionInfo": {
     "status": "ok",
     "timestamp": 1668926704339,
     "user_tz": 480,
     "elapsed": 28,
     "user": {
      "displayName": "Eros Rodriguez",
      "userId": "14071478129069134206"
     }
    },
    "outputId": "025283ad-0c11-4aa7-e0b8-7ba5648f0be0",
    "pycharm": {
     "name": "#%%\n"
    }
   },
   "execution_count": 5,
   "outputs": [
    {
     "data": {
      "text/plain": "(51, 6)"
     },
     "execution_count": 5,
     "metadata": {},
     "output_type": "execute_result"
    }
   ]
  },
  {
   "cell_type": "code",
   "source": [
    "# columns method returns array containing names of columns\n",
    "# can be useful later on\n",
    "columns = df.columns\n",
    "#print(columns)"
   ],
   "metadata": {
    "id": "9mh8OUw3LgLo",
    "executionInfo": {
     "status": "ok",
     "timestamp": 1668926704339,
     "user_tz": 480,
     "elapsed": 26,
     "user": {
      "displayName": "Eros Rodriguez",
      "userId": "14071478129069134206"
     }
    },
    "pycharm": {
     "name": "#%%\n"
    }
   },
   "execution_count": 6,
   "outputs": []
  },
  {
   "cell_type": "code",
   "source": [
    "# before analyzing data check for missing or junk data\n",
    "\n",
    "# use isna() method \n",
    "# isna() method returns a DataFrame object where all the values are replaced  \n",
    "# with a Boolean value True for NA (not-a-number) values, and otherwise False \n",
    "na_df = df.isna()"
   ],
   "metadata": {
    "id": "iWgrLw1rM253",
    "executionInfo": {
     "status": "ok",
     "timestamp": 1668926704340,
     "user_tz": 480,
     "elapsed": 26,
     "user": {
      "displayName": "Eros Rodriguez",
      "userId": "14071478129069134206"
     }
    },
    "pycharm": {
     "name": "#%%\n"
    }
   },
   "execution_count": 7,
   "outputs": []
  },
  {
   "cell_type": "code",
   "source": [
    "# looks like we have some NA values at index 50 of dataframe\n",
    "df.tail()"
   ],
   "metadata": {
    "id": "TQScpy3jNLA2",
    "colab": {
     "base_uri": "https://localhost:8080/",
     "height": 206
    },
    "executionInfo": {
     "status": "ok",
     "timestamp": 1668926704340,
     "user_tz": 480,
     "elapsed": 26,
     "user": {
      "displayName": "Eros Rodriguez",
      "userId": "14071478129069134206"
     }
    },
    "outputId": "8d8526c4-0b3a-46f2-c8b0-b6f9d4a4ea78",
    "pycharm": {
     "name": "#%%\n"
    }
   },
   "execution_count": 8,
   "outputs": [
    {
     "data": {
      "text/plain": "      Undergraduate Major  Starting Median Salary  Mid-Career Median Salary  \\\n46             Psychology                 35900.0                   60400.0   \n47               Religion                 34100.0                   52000.0   \n48              Sociology                 36500.0                   58200.0   \n49                Spanish                 34000.0                   53100.0   \n50  Source: PayScale Inc.                     NaN                       NaN   \n\n    Mid-Career 10th Percentile Salary  Mid-Career 90th Percentile Salary Group  \n46                            31600.0                           127000.0  HASS  \n47                            29700.0                            96400.0  HASS  \n48                            30700.0                           118000.0  HASS  \n49                            31000.0                            96400.0  HASS  \n50                                NaN                                NaN   NaN  ",
      "text/html": "<div>\n<style scoped>\n    .dataframe tbody tr th:only-of-type {\n        vertical-align: middle;\n    }\n\n    .dataframe tbody tr th {\n        vertical-align: top;\n    }\n\n    .dataframe thead th {\n        text-align: right;\n    }\n</style>\n<table border=\"1\" class=\"dataframe\">\n  <thead>\n    <tr style=\"text-align: right;\">\n      <th></th>\n      <th>Undergraduate Major</th>\n      <th>Starting Median Salary</th>\n      <th>Mid-Career Median Salary</th>\n      <th>Mid-Career 10th Percentile Salary</th>\n      <th>Mid-Career 90th Percentile Salary</th>\n      <th>Group</th>\n    </tr>\n  </thead>\n  <tbody>\n    <tr>\n      <th>46</th>\n      <td>Psychology</td>\n      <td>35900.0</td>\n      <td>60400.0</td>\n      <td>31600.0</td>\n      <td>127000.0</td>\n      <td>HASS</td>\n    </tr>\n    <tr>\n      <th>47</th>\n      <td>Religion</td>\n      <td>34100.0</td>\n      <td>52000.0</td>\n      <td>29700.0</td>\n      <td>96400.0</td>\n      <td>HASS</td>\n    </tr>\n    <tr>\n      <th>48</th>\n      <td>Sociology</td>\n      <td>36500.0</td>\n      <td>58200.0</td>\n      <td>30700.0</td>\n      <td>118000.0</td>\n      <td>HASS</td>\n    </tr>\n    <tr>\n      <th>49</th>\n      <td>Spanish</td>\n      <td>34000.0</td>\n      <td>53100.0</td>\n      <td>31000.0</td>\n      <td>96400.0</td>\n      <td>HASS</td>\n    </tr>\n    <tr>\n      <th>50</th>\n      <td>Source: PayScale Inc.</td>\n      <td>NaN</td>\n      <td>NaN</td>\n      <td>NaN</td>\n      <td>NaN</td>\n      <td>NaN</td>\n    </tr>\n  </tbody>\n</table>\n</div>"
     },
     "execution_count": 8,
     "metadata": {},
     "output_type": "execute_result"
    }
   ]
  },
  {
   "cell_type": "code",
   "source": [
    "# drop row at index 50\n",
    "clean_df = df.dropna()"
   ],
   "metadata": {
    "id": "S9JQYDYXOwIE",
    "executionInfo": {
     "status": "ok",
     "timestamp": 1668926704340,
     "user_tz": 480,
     "elapsed": 25,
     "user": {
      "displayName": "Eros Rodriguez",
      "userId": "14071478129069134206"
     }
    },
    "pycharm": {
     "name": "#%%\n"
    }
   },
   "execution_count": 9,
   "outputs": []
  },
  {
   "cell_type": "markdown",
   "source": [
    "1. Find College Major with Highest Starting Salaries\n",
    "\n"
   ],
   "metadata": {
    "id": "yHYh4X11XOrX",
    "pycharm": {
     "name": "#%% md\n"
    }
   }
  },
  {
   "cell_type": "code",
   "source": [
    "# extract values from column starting_median_salary\n",
    "starting_med_sal = clean_df['Starting Median Salary']\n",
    "idx_max_salary = starting_med_sal.idxmax()\n",
    "major_with_highest_starting_salary = clean_df['Undergraduate Major'][idx_max_salary]\n",
    "# major with highest median starting salary \n",
    "\"major with highest starting salary: \" + major_with_highest_starting_salary"
   ],
   "metadata": {
    "id": "l02tavxnXdsF",
    "colab": {
     "base_uri": "https://localhost:8080/",
     "height": 35
    },
    "executionInfo": {
     "status": "ok",
     "timestamp": 1668926704341,
     "user_tz": 480,
     "elapsed": 26,
     "user": {
      "displayName": "Eros Rodriguez",
      "userId": "14071478129069134206"
     }
    },
    "outputId": "5a3508f2-3871-4f7a-a745-15423f9cdb0d",
    "pycharm": {
     "name": "#%%\n"
    }
   },
   "execution_count": 10,
   "outputs": [
    {
     "data": {
      "text/plain": "'major with highest starting salary: Physician Assistant'"
     },
     "execution_count": 10,
     "metadata": {},
     "output_type": "execute_result"
    }
   ]
  },
  {
   "cell_type": "markdown",
   "source": [
    "2. What college major has the highest mid-career salary? How much do graduates with this major earn? (Mid-career is defined as having 10+ years of experience)."
   ],
   "metadata": {
    "id": "ZqVTE_9WacYQ",
    "pycharm": {
     "name": "#%% md\n"
    }
   }
  },
  {
   "cell_type": "code",
   "source": [
    "clean_df.head()\n",
    "idx_of_major_with_highest_mid_car_salary = clean_df['Mid-Career Median Salary'].idxmax()\n",
    "major_with_highest_mid_car_salary = clean_df['Undergraduate Major'][idx_of_major_with_highest_mid_car_salary]\n",
    "\n",
    "q_two_a = \"major with highest_mid_career_median_salary: \" + major_with_highest_mid_car_salary\n",
    "print(q_two_a)\n",
    "\n",
    "mid_highest_earning_major_salary = clean_df['Mid-Career Median Salary'][idx_of_major_with_highest_mid_car_salary]\n",
    "q_two_b = \"mid career graduates with this major earn on average: \" + str(mid_highest_earning_major_salary)\n",
    "print(q_two_b)"
   ],
   "metadata": {
    "id": "GzRRTNHBZndk",
    "colab": {
     "base_uri": "https://localhost:8080/"
    },
    "executionInfo": {
     "status": "ok",
     "timestamp": 1668926704342,
     "user_tz": 480,
     "elapsed": 25,
     "user": {
      "displayName": "Eros Rodriguez",
      "userId": "14071478129069134206"
     }
    },
    "outputId": "f388199d-1615-4c2d-87d4-637a2d4bc3eb",
    "pycharm": {
     "name": "#%%\n"
    }
   },
   "execution_count": 11,
   "outputs": [
    {
     "name": "stdout",
     "output_type": "stream",
     "text": [
      "major with highest_mid_career_median_salary: Chemical Engineering\n",
      "mid career graduates with this major earn on average: 107000.0\n"
     ]
    }
   ]
  },
  {
   "cell_type": "markdown",
   "source": [
    "3. Which college major has the lowest starting salary and how much do graduates earn after university?"
   ],
   "metadata": {
    "id": "SpTwSPzAeXVD",
    "pycharm": {
     "name": "#%% md\n"
    }
   }
  },
  {
   "cell_type": "code",
   "source": [
    "idx_lowest_starting_salary = clean_df['Starting Median Salary'].idxmin()\n",
    "major_lowest_starting_salary = clean_df['Undergraduate Major'][idx_lowest_starting_salary]\n",
    "q_three_a = \"college major with lowest starting salary: \" + major_lowest_starting_salary\n",
    "print(q_three_a)\n",
    "\n",
    "salary_of_major_with_lowest_starting_salary = clean_df['Starting Median Salary'][idx_lowest_starting_salary]\n",
    "q_three_b = \"graduates with \" + major_lowest_starting_salary + \" Major make \" + str(salary_of_major_with_lowest_starting_salary)\n",
    "print(q_three_b)"
   ],
   "metadata": {
    "id": "t5pa1Q7MeSnF",
    "colab": {
     "base_uri": "https://localhost:8080/"
    },
    "executionInfo": {
     "status": "ok",
     "timestamp": 1668926704342,
     "user_tz": 480,
     "elapsed": 23,
     "user": {
      "displayName": "Eros Rodriguez",
      "userId": "14071478129069134206"
     }
    },
    "outputId": "95498557-4f26-4118-d7d9-5e188ccc8268",
    "pycharm": {
     "name": "#%%\n"
    }
   },
   "execution_count": 12,
   "outputs": [
    {
     "name": "stdout",
     "output_type": "stream",
     "text": [
      "college major with lowest starting salary: Spanish\n",
      "graduates with Spanish Major make 34000.0\n"
     ]
    }
   ]
  },
  {
   "cell_type": "markdown",
   "source": [
    "\n",
    "4. Which college major has the lowest mid-career salary and how much can people expect to earn with this degree? "
   ],
   "metadata": {
    "id": "eLOMf-XoecM8",
    "pycharm": {
     "name": "#%% md\n"
    }
   }
  },
  {
   "cell_type": "code",
   "source": [
    "idx_lowest_mid_salary = clean_df['Mid-Career Median Salary'].idxmin()\n",
    "major_lowest_mid_salary = clean_df['Undergraduate Major'][idx_lowest_mid_salary]\n",
    "q_four_a = \"college major with lowest mid career salary: \" + major_lowest_mid_salary\n",
    "print(q_four_a)\n",
    "\n",
    "salary_of_major_with_lowest_mid_salary = clean_df['Mid-Career Median Salary'][idx_lowest_mid_salary]\n",
    "q_four_b = \"graduates with \" + major_lowest_mid_salary + \" Major make \" + str(salary_of_major_with_lowest_mid_salary)\n",
    "print(q_four_b)"
   ],
   "metadata": {
    "id": "yNO2LlIHgDkC",
    "colab": {
     "base_uri": "https://localhost:8080/"
    },
    "executionInfo": {
     "status": "ok",
     "timestamp": 1668926704343,
     "user_tz": 480,
     "elapsed": 23,
     "user": {
      "displayName": "Eros Rodriguez",
      "userId": "14071478129069134206"
     }
    },
    "outputId": "bd59a919-43e3-4e2a-c814-f493230daa76",
    "pycharm": {
     "name": "#%%\n"
    }
   },
   "execution_count": 13,
   "outputs": [
    {
     "name": "stdout",
     "output_type": "stream",
     "text": [
      "college major with lowest mid career salary: Education\n",
      "graduates with Education Major make 52000.0\n"
     ]
    }
   ]
  },
  {
   "cell_type": "markdown",
   "source": [
    "Lowest Risk Majors\n",
    "\n",
    "A low-risk major is a degree where there is a small difference between the lowest and highest salaries. In other words, if the difference between the 10th percentile and the 90th percentile earnings of your major is small, then you can be more certain about your salary after you graduate.\n",
    "\n",
    "Calculate the difference between the earnings of the 10th and 90th percentile.\n",
    "\n",
    "Then use the calculated spread to find the major with the lowest risk."
   ],
   "metadata": {
    "id": "H6DwyKf3TYhS",
    "pycharm": {
     "name": "#%% md\n"
    }
   }
  },
  {
   "cell_type": "code",
   "source": [
    "# calculate the difference in earnings\n",
    "spread_col = clean_df['Mid-Career 90th Percentile Salary'] - clean_df['Mid-Career 10th Percentile Salary']\n",
    "\n",
    "#enter spread column into df\n",
    "clean_df.insert(1, \"Spread\", spread_col)\n",
    "\n",
    "\n",
    "# # sort df by ascending spread \n",
    "# df_sorted_by_ascending_spread = spread_col.sort_values('Spread')\n",
    "# df_sorted_by_ascending_spread[['Undergraduate Major', \"Spread\"]].head()"
   ],
   "metadata": {
    "id": "fitA5wv7T1Oc",
    "executionInfo": {
     "status": "ok",
     "timestamp": 1668926704343,
     "user_tz": 480,
     "elapsed": 22,
     "user": {
      "displayName": "Eros Rodriguez",
      "userId": "14071478129069134206"
     }
    },
    "pycharm": {
     "name": "#%%\n"
    }
   },
   "execution_count": 14,
   "outputs": []
  },
  {
   "cell_type": "code",
   "source": [
    "clean_df.head()\n",
    "\n",
    "df_sorted_by_ascending_spread = clean_df.sort_values('Spread')\n",
    "lowest_risk_df = df_sorted_by_ascending_spread[['Undergraduate Major', 'Spread']].head()\n",
    "lowest_risk_df.reset_index(drop=True, inplace=True,)\n",
    "\n",
    "lowest_risk_df.head()"
   ],
   "metadata": {
    "id": "hkHbRzF6WLjx",
    "executionInfo": {
     "status": "ok",
     "timestamp": 1668926704344,
     "user_tz": 480,
     "elapsed": 23,
     "user": {
      "displayName": "Eros Rodriguez",
      "userId": "14071478129069134206"
     }
    },
    "colab": {
     "base_uri": "https://localhost:8080/",
     "height": 206
    },
    "outputId": "4359cb52-7a2e-4b0f-e8cc-e484025394db",
    "pycharm": {
     "name": "#%%\n"
    }
   },
   "execution_count": 15,
   "outputs": [
    {
     "data": {
      "text/plain": "          Undergraduate Major   Spread\n0                     Nursing  50700.0\n1         Physician Assistant  57600.0\n2                   Nutrition  65300.0\n3                     Spanish  65400.0\n4  Health Care Administration  66400.0",
      "text/html": "<div>\n<style scoped>\n    .dataframe tbody tr th:only-of-type {\n        vertical-align: middle;\n    }\n\n    .dataframe tbody tr th {\n        vertical-align: top;\n    }\n\n    .dataframe thead th {\n        text-align: right;\n    }\n</style>\n<table border=\"1\" class=\"dataframe\">\n  <thead>\n    <tr style=\"text-align: right;\">\n      <th></th>\n      <th>Undergraduate Major</th>\n      <th>Spread</th>\n    </tr>\n  </thead>\n  <tbody>\n    <tr>\n      <th>0</th>\n      <td>Nursing</td>\n      <td>50700.0</td>\n    </tr>\n    <tr>\n      <th>1</th>\n      <td>Physician Assistant</td>\n      <td>57600.0</td>\n    </tr>\n    <tr>\n      <th>2</th>\n      <td>Nutrition</td>\n      <td>65300.0</td>\n    </tr>\n    <tr>\n      <th>3</th>\n      <td>Spanish</td>\n      <td>65400.0</td>\n    </tr>\n    <tr>\n      <th>4</th>\n      <td>Health Care Administration</td>\n      <td>66400.0</td>\n    </tr>\n  </tbody>\n</table>\n</div>"
     },
     "execution_count": 15,
     "metadata": {},
     "output_type": "execute_result"
    }
   ]
  },
  {
   "cell_type": "code",
   "source": [
    "\n",
    "print_this = \"The lowest risk majors are, that is, the ones with the lowest spread in salaries are:\"\n",
    "low_risk_majors = lowest_risk_df['Undergraduate Major']\n",
    "low_risk_spreads = lowest_risk_df['Spread']\n",
    "\n",
    "def print_majors():\n",
    "  print(print_this)\n",
    "  for idx, value in enumerate(low_risk_majors):\n",
    "    print(value + \", spread salary: \" + str(low_risk_spreads[idx]))\n",
    "\n",
    "print_majors()"
   ],
   "metadata": {
    "colab": {
     "base_uri": "https://localhost:8080/"
    },
    "id": "YpiLPq8YYe7N",
    "executionInfo": {
     "status": "ok",
     "timestamp": 1668926875921,
     "user_tz": 480,
     "elapsed": 244,
     "user": {
      "displayName": "Eros Rodriguez",
      "userId": "14071478129069134206"
     }
    },
    "outputId": "f3b2773a-45e7-43c6-c9fc-809dd7c2f76d",
    "pycharm": {
     "name": "#%%\n"
    }
   },
   "execution_count": 16,
   "outputs": [
    {
     "name": "stdout",
     "output_type": "stream",
     "text": [
      "The lowest risk majors are, that is, the ones with the lowest spread in salaries are:\n",
      "Nursing, spread salary: 50700.0\n",
      "Physician Assistant, spread salary: 57600.0\n",
      "Nutrition, spread salary: 65300.0\n",
      "Spanish, spread salary: 65400.0\n",
      "Health Care Administration, spread salary: 66400.0\n"
     ]
    }
   ]
  },
  {
   "cell_type": "markdown",
   "source": [
    "1. Find the top 5 degrees with the highest values in the 90th percentile.\n",
    "\n",
    "2. Find the degrees with the greatest spread in salaries. \n",
    "\n",
    "<!-- 3. Which majors have the largest difference between high and low earners after graduation? -->"
   ],
   "metadata": {
    "id": "iJv5P5-xlZRD",
    "pycharm": {
     "name": "#%% md\n"
    }
   }
  },
  {
   "cell_type": "code",
   "source": [
    "df_sorted_top_five_highest_90th_percentile = clean_df.sort_values('Mid-Career 90th Percentile Salary', ascending=False).head(5)\n",
    "majors = df_sorted_top_five_highest_90th_percentile['Undergraduate Major']\n",
    "\n",
    "def print_top_five():\n",
    "  print('Top 5 degrees with highest values in the 90th percentile, that is, majors with highest potential are: ')\n",
    "  for x in majors:\n",
    "    print(x)\n",
    "\n",
    "print_top_five()\n",
    "\n",
    "df_sorted_degrees_with_greatest_spread = clean_df.sort_values('Spread', ascending=False)\n",
    "\n",
    "degrees_with_greatest_spread = df_sorted_degrees_with_greatest_spread['Undergraduate Major'].head(5)\n",
    "\n",
    "def print_greatest_spread():\n",
    "  print('The majors with the greatest spread in salaries are: ')\n",
    "  for x in degrees_with_greatest_spread:\n",
    "    print(x)\n",
    "\n",
    "print(\" \")\n",
    "print_greatest_spread()\n"
   ],
   "metadata": {
    "colab": {
     "base_uri": "https://localhost:8080/"
    },
    "id": "u9IkGlkbllei",
    "executionInfo": {
     "status": "ok",
     "timestamp": 1668927369411,
     "user_tz": 480,
     "elapsed": 262,
     "user": {
      "displayName": "Eros Rodriguez",
      "userId": "14071478129069134206"
     }
    },
    "outputId": "f12f332f-5bd0-485b-d049-0085d8839587",
    "pycharm": {
     "name": "#%%\n"
    }
   },
   "execution_count": 17,
   "outputs": [
    {
     "name": "stdout",
     "output_type": "stream",
     "text": [
      "Top 5 degrees with highest values in the 90th percentile, that is, majors with highest potential are: \n",
      "Economics\n",
      "Finance\n",
      "Chemical Engineering\n",
      "Math\n",
      "Physics\n",
      " \n",
      "The majors with the greatest spread in salaries are: \n",
      "Economics\n",
      "Finance\n",
      "Math\n",
      "Marketing\n",
      "Philosophy\n"
     ]
    }
   ]
  },
  {
   "cell_type": "markdown",
   "source": [
    "Which category of degrees has the highest average salary?"
   ],
   "metadata": {
    "id": "Y5euQ3hG1ioj",
    "pycharm": {
     "name": "#%% md\n"
    }
   }
  },
  {
   "cell_type": "code",
   "source": [
    "pd.options.display.float_format = '{:,.2f}'.format\n",
    "clean_df.groupby('Group').mean()"
   ],
   "metadata": {
    "colab": {
     "base_uri": "https://localhost:8080/",
     "height": 175
    },
    "id": "EE90aXiv1EiB",
    "executionInfo": {
     "status": "ok",
     "timestamp": 1668928017985,
     "user_tz": 480,
     "elapsed": 233,
     "user": {
      "displayName": "Eros Rodriguez",
      "userId": "14071478129069134206"
     }
    },
    "outputId": "9c430f2f-7739-428f-bbda-2a9e1346662c",
    "pycharm": {
     "name": "#%%\n"
    }
   },
   "execution_count": 18,
   "outputs": [
    {
     "data": {
      "text/plain": "             Spread  Starting Median Salary  Mid-Career Median Salary  \\\nGroup                                                                   \nBusiness 103,958.33               44,633.33                 75,083.33   \nHASS      95,218.18               37,186.36                 62,968.18   \nSTEM     101,600.00               53,862.50                 90,812.50   \n\n          Mid-Career 10th Percentile Salary  Mid-Career 90th Percentile Salary  \nGroup                                                                           \nBusiness                          43,566.67                         147,525.00  \nHASS                              34,145.45                         129,363.64  \nSTEM                              56,025.00                         157,625.00  ",
      "text/html": "<div>\n<style scoped>\n    .dataframe tbody tr th:only-of-type {\n        vertical-align: middle;\n    }\n\n    .dataframe tbody tr th {\n        vertical-align: top;\n    }\n\n    .dataframe thead th {\n        text-align: right;\n    }\n</style>\n<table border=\"1\" class=\"dataframe\">\n  <thead>\n    <tr style=\"text-align: right;\">\n      <th></th>\n      <th>Spread</th>\n      <th>Starting Median Salary</th>\n      <th>Mid-Career Median Salary</th>\n      <th>Mid-Career 10th Percentile Salary</th>\n      <th>Mid-Career 90th Percentile Salary</th>\n    </tr>\n    <tr>\n      <th>Group</th>\n      <th></th>\n      <th></th>\n      <th></th>\n      <th></th>\n      <th></th>\n    </tr>\n  </thead>\n  <tbody>\n    <tr>\n      <th>Business</th>\n      <td>103,958.33</td>\n      <td>44,633.33</td>\n      <td>75,083.33</td>\n      <td>43,566.67</td>\n      <td>147,525.00</td>\n    </tr>\n    <tr>\n      <th>HASS</th>\n      <td>95,218.18</td>\n      <td>37,186.36</td>\n      <td>62,968.18</td>\n      <td>34,145.45</td>\n      <td>129,363.64</td>\n    </tr>\n    <tr>\n      <th>STEM</th>\n      <td>101,600.00</td>\n      <td>53,862.50</td>\n      <td>90,812.50</td>\n      <td>56,025.00</td>\n      <td>157,625.00</td>\n    </tr>\n  </tbody>\n</table>\n</div>"
     },
     "execution_count": 18,
     "metadata": {},
     "output_type": "execute_result"
    }
   ]
  },
  {
   "cell_type": "code",
   "source": [
    "\n",
    "print('The category of degrees with the highest average salary is Business')"
   ],
   "metadata": {
    "id": "XNXN8HkO3HiM",
    "executionInfo": {
     "status": "ok",
     "timestamp": 1668928018933,
     "user_tz": 480,
     "elapsed": 4,
     "user": {
      "displayName": "Eros Rodriguez",
      "userId": "14071478129069134206"
     }
    },
    "outputId": "253402c1-894d-4394-d5d6-f829520a4fee",
    "colab": {
     "base_uri": "https://localhost:8080/"
    },
    "pycharm": {
     "name": "#%%\n"
    }
   },
   "execution_count": 19,
   "outputs": [
    {
     "name": "stdout",
     "output_type": "stream",
     "text": [
      "The category of degrees with the highest average salary is Business\n"
     ]
    }
   ]
  }
 ]
}